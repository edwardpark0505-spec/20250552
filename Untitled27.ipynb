{
 "cells": [
  {
   "cell_type": "code",
   "execution_count": 6,
   "id": "945dbc50-1782-45a7-8690-50e979460062",
   "metadata": {},
   "outputs": [
    {
     "name": "stdout",
     "output_type": "stream",
     "text": [
      "평균 점수: 85.66666666666667\n",
      "중앙값 점수: 87.0\n",
      "최빈값 점수: 90\n"
     ]
    }
   ],
   "source": [
    "import numpy as np\n",
    "from statistics import mode\n",
    "from scipy import stats\n",
    "\n",
    "exam_scores = [82, 90, 76, 92, 88, 79, 95, 87, 90, 76, 92, 90, 85, 78, 85]\n",
    "\n",
    "mean_score = np.mean(exam_scores)\n",
    "\n",
    "median_score = np.median(exam_scores)\n",
    "\n",
    "try:\n",
    "    mode_score = mode(exam_scores)\n",
    "except:\n",
    "    mode_score = stats.mode(exam_scores)[0][0]\n",
    "\n",
    "print(f\"평균 점수: {mean_score}\")\n",
    "print(f\"중앙값 점수: {median_score}\")\n",
    "print(f\"최빈값 점수: {mode_score}\")\n"
   ]
  },
  {
   "cell_type": "code",
   "execution_count": 8,
   "id": "15b7b23f-a96a-4aaf-a4b2-eb7e97cbbe64",
   "metadata": {},
   "outputs": [
    {
     "name": "stdout",
     "output_type": "stream",
     "text": [
      "범위: 5\n",
      "분산(모집단): 2.6666666666666665\n",
      "분산(표본): 3.0\n",
      "표준편차(모집단): 1.632993161855452\n",
      "표준편차(표본): 1.7320508075688772\n",
      "변동계수: 0.4453617714151233\n"
     ]
    }
   ],
   "source": [
    "import numpy as np\n",
    "from scipy.stats import variation\n",
    "\n",
    "data = [1, 2, 2, 3, 4, 5, 5, 5, 6]\n",
    "\n",
    "data_range = np.max(data) - np.min(data)\n",
    "\n",
    "variance = np.var(data, ddof=0) \n",
    "sample_variance = np.var(data, ddof=1)\n",
    "\n",
    "std_deviation = np.std(data, ddof=0)  \n",
    "sample_std_deviation = np.std(data, ddof=1) \n",
    "\n",
    "cv = variation(data) \n",
    "\n",
    "print(f\"범위: {data_range}\")\n",
    "print(f\"분산(모집단): {variance}\")\n",
    "print(f\"분산(표본): {sample_variance}\")\n",
    "print(f\"표준편차(모집단): {std_deviation}\")\n",
    "print(f\"표준편차(표본): {sample_std_deviation}\")\n",
    "print(f\"변동계수: {cv}\")\n"
   ]
  },
  {
   "cell_type": "code",
   "execution_count": 10,
   "id": "858f12bd-4f9e-41ab-b190-c0947f58709f",
   "metadata": {},
   "outputs": [
    {
     "data": {
      "image/png": "[encoded data removed]",
      "text/plain": [
       "<Figure size 640x480 with 1 Axes>"
      ]
     },
     "metadata": {},
     "output_type": "display_data"
    }
   ],
   "source": [
    "import matplotlib.pyplot as plt\n",
    "\n",
    "data = [1, 2, 2, 3, 4, 5, 5, 5, 6, 7, 8, 9, 10, 11, 12, 13, 14, 15, 20]\n",
    "\n",
    "plt.boxplot(data)\n",
    "\n",
    "plt.title(\"Boxplot of Data\")\n",
    "plt.ylabel(\"Values\")\n",
    "\n",
    "plt.show()\n"
   ]
  },
  {
   "cell_type": "code",
   "execution_count": null,
   "id": "48d1e6b8-d142-442f-8de2-ea8b5fd604a7",
   "metadata": {},
   "outputs": [],
   "source": [
    "import matplotlib.pyplot as plt\n",
    "\n",
    "# 예제 데이터 집합\n",
    "data = [1, 2, 2, 3, 3, 3, 3, 4, 5, 5, 5, 5, 5, 5, 5, 6, 6, 7, 7, 7, 8, 8, 9, 9, 9, 9, 9, 9, 10, 10, 10, 10, 11, 11, 12, 13, 13, 13, 13, 13, 13, 14, 15, 15, 16, 16, 17, 18, 19, 19, 20, 20, 20]\n",
    "\n",
    "# 히스토그램의 구간(bin) 정의\n",
    "bins = np.arange(0, max(data) + 1.5) - 0.5\n",
    "\n",
    "# 히스토그램 생\n",
    "plt.hist(data, bins=bins, edgecolor='black')\n",
    "\n",
    "plt.title('Histogram of Data')\n",
    "plt.xlabel('Value')\n",
    "plt.ylabel('Frequency')\n",
    "\n",
    "plt.show()\n"
   ]
  }
 ],
 "metadata": {
  "kernelspec": {
   "display_name": "Python 3 (ipykernel)",
   "language": "python",
   "name": "python3"
  },
  "language_info": {
   "codemirror_mode": {
    "name": "ipython",
    "version": 3
   },
   "file_extension": ".py",
   "mimetype": "text/x-python",
   "name": "python",
   "nbconvert_exporter": "python",
   "pygments_lexer": "ipython3",
   "version": "3.12.7"
  }
 },
 "nbformat": 4,
 "nbformat_minor": 5
}
